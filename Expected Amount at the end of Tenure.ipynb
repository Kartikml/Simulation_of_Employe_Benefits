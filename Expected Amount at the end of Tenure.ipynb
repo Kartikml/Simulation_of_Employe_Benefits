{
 "cells": [
  {
   "cell_type": "markdown",
   "metadata": {},
   "source": [
    "# Input Your Salary"
   ]
  },
  {
   "cell_type": "code",
   "execution_count": 1,
   "metadata": {},
   "outputs": [
    {
     "name": "stdout",
     "output_type": "stream",
     "text": [
      "Enter your salary: 47000\n"
     ]
    }
   ],
   "source": [
    "salary = int(input('Enter your salary: '))"
   ]
  },
  {
   "cell_type": "markdown",
   "metadata": {},
   "source": [
    "# Input your Tenure in Month"
   ]
  },
  {
   "cell_type": "code",
   "execution_count": 2,
   "metadata": {},
   "outputs": [
    {
     "name": "stdout",
     "output_type": "stream",
     "text": [
      "Time period of tenure in months: 50\n"
     ]
    }
   ],
   "source": [
    " tenure=int(input('Time period of tenure in months: '))"
   ]
  },
  {
   "cell_type": "markdown",
   "metadata": {},
   "source": [
    "# Input actual Working Period"
   ]
  },
  {
   "cell_type": "code",
   "execution_count": 3,
   "metadata": {},
   "outputs": [
    {
     "name": "stdout",
     "output_type": "stream",
     "text": [
      "Actual working period of employee in months:50\n"
     ]
    }
   ],
   "source": [
    "worked=int(input('Actual working period of employee in months:'))"
   ]
  },
  {
   "cell_type": "code",
   "execution_count": 4,
   "metadata": {},
   "outputs": [
    {
     "name": "stdout",
     "output_type": "stream",
     "text": [
      "4\n"
     ]
    }
   ],
   "source": [
    "if tenure>23 and tenure<36:\n",
    "    value=2\n",
    "    print(value)\n",
    "elif tenure>35 and tenure<48:\n",
    "    value=3\n",
    "    print(value)\n",
    "elif tenure>47:\n",
    "    value=4\n",
    "    print(value)\n",
    "else:\n",
    "    print (\"Sorry, To apply for this plan you need to work for atleast 24 months i.e 2 years\")"
   ]
  },
  {
   "cell_type": "code",
   "execution_count": 5,
   "metadata": {},
   "outputs": [
    {
     "data": {
      "text/plain": [
       "4"
      ]
     },
     "execution_count": 5,
     "metadata": {},
     "output_type": "execute_result"
    }
   ],
   "source": [
    "if worked>23 and worked<36:\n",
    "    value1=2\n",
    "elif worked>35 and worked<48:\n",
    "    value1=3\n",
    "elif worked>47:\n",
    "    value1=4\n",
    "else:\n",
    "    print (\"Sorry, To apply for this plan you need to work for atleast 24 months i.e 2 years\")\n",
    "    \n",
    "value1"
   ]
  },
  {
   "cell_type": "code",
   "execution_count": 6,
   "metadata": {},
   "outputs": [
    {
     "data": {
      "text/plain": [
       "0"
      ]
     },
     "execution_count": 6,
     "metadata": {},
     "output_type": "execute_result"
    }
   ],
   "source": [
    "n=value-value1\n",
    "if   n==0:\n",
    "     id=0\n",
    "elif n==1:\n",
    "     id=1\n",
    "elif n==2:\n",
    "    id=2\n",
    "elif n<0:\n",
    "     id=0        \n",
    "id"
   ]
  },
  {
   "cell_type": "code",
   "execution_count": 7,
   "metadata": {},
   "outputs": [
    {
     "name": "stdout",
     "output_type": "stream",
     "text": [
      "3290.0\n"
     ]
    }
   ],
   "source": [
    "if salary>400000:\n",
    "    inv=((salary)*15)/100\n",
    "    print (inv)\n",
    "elif 400000>=salary>290000:\n",
    "    inv=((salary)*12)/100\n",
    "    print (inv)\n",
    "elif 290000>=salary>150000:\n",
    "    inv=((salary)*10)/100\n",
    "    print (inv)\n",
    "elif 150000>=salary>65000:\n",
    "    inv=((salary)*8)/100\n",
    "    print (inv)\n",
    "else:\n",
    "    inv=((salary)*7)/100\n",
    "    print (inv)"
   ]
  },
  {
   "cell_type": "code",
   "execution_count": 8,
   "metadata": {},
   "outputs": [
    {
     "name": "stdout",
     "output_type": "stream",
     "text": [
      "2\n"
     ]
    }
   ],
   "source": [
    "if inv>30000:\n",
    "    val=4\n",
    "    print(val)\n",
    "elif inv<30000 and inv>10000:\n",
    "    val=3\n",
    "    print(val)\n",
    "else:\n",
    "    val=2\n",
    "    print(val)"
   ]
  },
  {
   "cell_type": "code",
   "execution_count": 9,
   "metadata": {},
   "outputs": [
    {
     "data": {
      "text/plain": [
       "6.5"
      ]
     },
     "execution_count": 9,
     "metadata": {},
     "output_type": "execute_result"
    }
   ],
   "source": [
    "intrest_rate=(1.75*val+0.75*value)-id\n",
    "intrest_rate"
   ]
  },
  {
   "cell_type": "code",
   "execution_count": 10,
   "metadata": {},
   "outputs": [
    {
     "data": {
      "text/plain": [
       "0.005416666666666667"
      ]
     },
     "execution_count": 10,
     "metadata": {},
     "output_type": "execute_result"
    }
   ],
   "source": [
    "ir= intrest_rate/1200\n",
    "ir"
   ]
  },
  {
   "cell_type": "code",
   "execution_count": 11,
   "metadata": {},
   "outputs": [
    {
     "name": "stdout",
     "output_type": "stream",
     "text": [
      "Final Amount given to Employee :\n",
      "204190.18614375955\n"
     ]
    }
   ],
   "source": [
    "amount = inv\n",
    "tp =1\n",
    "months=1\n",
    "pv=amount\n",
    "pi=0\n",
    "while tp<=tenure:\n",
    "    pi=(pv*(1+ir))\n",
    "    pv=amount+pi\n",
    "    tp=tp+1\n",
    "    months=months+1\n",
    "    if months==12:\n",
    "        amount=amount*(1.05)\n",
    "        months=0\n",
    "print(\"Final Amount given to Employee :\")        \n",
    "print(pi)"
   ]
  },
  {
   "cell_type": "code",
   "execution_count": null,
   "metadata": {},
   "outputs": [],
   "source": []
  }
 ],
 "metadata": {
  "kernelspec": {
   "display_name": "Python 3",
   "language": "python",
   "name": "python3"
  },
  "language_info": {
   "codemirror_mode": {
    "name": "ipython",
    "version": 3
   },
   "file_extension": ".py",
   "mimetype": "text/x-python",
   "name": "python",
   "nbconvert_exporter": "python",
   "pygments_lexer": "ipython3",
   "version": "3.7.4"
  }
 },
 "nbformat": 4,
 "nbformat_minor": 2
}
